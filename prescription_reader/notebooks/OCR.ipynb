{
  "cells": [
    {
      "cell_type": "code",
      "execution_count": 1,
      "metadata": {
        "colab": {
          "base_uri": "https://localhost:8080/"
        },
        "id": "0zGWFQbcLXhc",
        "outputId": "fd562b7a-fed3-499b-f29c-26a74b47c447"
      },
      "outputs": [
        {
          "name": "stdout",
          "output_type": "stream",
          "text": [
            "Reading package lists... Done\n",
            "Building dependency tree... Done\n",
            "Reading state information... Done\n",
            "The following additional packages will be installed:\n",
            "  tesseract-ocr-eng tesseract-ocr-osd\n",
            "The following NEW packages will be installed:\n",
            "  tesseract-ocr tesseract-ocr-eng tesseract-ocr-osd\n",
            "0 upgraded, 3 newly installed, 0 to remove and 29 not upgraded.\n",
            "Need to get 4,816 kB of archives.\n",
            "After this operation, 15.6 MB of additional disk space will be used.\n",
            "Get:1 http://archive.ubuntu.com/ubuntu jammy/universe amd64 tesseract-ocr-eng all 1:4.00~git30-7274cfa-1.1 [1,591 kB]\n",
            "Get:2 http://archive.ubuntu.com/ubuntu jammy/universe amd64 tesseract-ocr-osd all 1:4.00~git30-7274cfa-1.1 [2,990 kB]\n",
            "Get:3 http://archive.ubuntu.com/ubuntu jammy/universe amd64 tesseract-ocr amd64 4.1.1-2.1build1 [236 kB]\n",
            "Fetched 4,816 kB in 1s (9,549 kB/s)\n",
            "debconf: unable to initialize frontend: Dialog\n",
            "debconf: (No usable dialog-like program is installed, so the dialog based frontend cannot be used. at /usr/share/perl5/Debconf/FrontEnd/Dialog.pm line 78, <> line 3.)\n",
            "debconf: falling back to frontend: Readline\n",
            "debconf: unable to initialize frontend: Readline\n",
            "debconf: (This frontend requires a controlling tty.)\n",
            "debconf: falling back to frontend: Teletype\n",
            "dpkg-preconfigure: unable to re-open stdin: \n",
            "Selecting previously unselected package tesseract-ocr-eng.\n",
            "(Reading database ... 124947 files and directories currently installed.)\n",
            "Preparing to unpack .../tesseract-ocr-eng_1%3a4.00~git30-7274cfa-1.1_all.deb ...\n",
            "Unpacking tesseract-ocr-eng (1:4.00~git30-7274cfa-1.1) ...\n",
            "Selecting previously unselected package tesseract-ocr-osd.\n",
            "Preparing to unpack .../tesseract-ocr-osd_1%3a4.00~git30-7274cfa-1.1_all.deb ...\n",
            "Unpacking tesseract-ocr-osd (1:4.00~git30-7274cfa-1.1) ...\n",
            "Selecting previously unselected package tesseract-ocr.\n",
            "Preparing to unpack .../tesseract-ocr_4.1.1-2.1build1_amd64.deb ...\n",
            "Unpacking tesseract-ocr (4.1.1-2.1build1) ...\n",
            "Setting up tesseract-ocr-eng (1:4.00~git30-7274cfa-1.1) ...\n",
            "Setting up tesseract-ocr-osd (1:4.00~git30-7274cfa-1.1) ...\n",
            "Setting up tesseract-ocr (4.1.1-2.1build1) ...\n",
            "Processing triggers for man-db (2.10.2-1) ...\n"
          ]
        }
      ],
      "source": [
        "!sudo apt install tesseract-ocr"
      ]
    },
    {
      "cell_type": "code",
      "execution_count": 2,
      "metadata": {
        "id": "mWmLuBbVNDpD"
      },
      "outputs": [],
      "source": [
        "!mkdir fonts output train"
      ]
    },
    {
      "cell_type": "code",
      "execution_count": 14,
      "metadata": {
        "id": "t4WaQNdvEbzp"
      },
      "outputs": [],
      "source": [
        "font_name = 'TypoUpright BT'  #@param {type: \"string\"}\n",
        "\n"
      ]
    },
    {
      "cell_type": "code",
      "execution_count": 15,
      "metadata": {
        "colab": {
          "base_uri": "https://localhost:8080/"
        },
        "id": "G8w_sAtrpgVL",
        "outputId": "180038c1-4571-40bc-af79-512bb1853261"
      },
      "outputs": [
        {
          "name": "stdout",
          "output_type": "stream",
          "text": [
            "Drive already mounted at /content/drive; to attempt to forcibly remount, call drive.mount(\"/content/drive\", force_remount=True).\n"
          ]
        }
      ],
      "source": [
        "from google.colab import drive\n",
        "drive.mount('/content/drive')"
      ]
    },
    {
      "cell_type": "code",
      "execution_count": 16,
      "metadata": {
        "id": "LMMTbc-xsXzI"
      },
      "outputs": [],
      "source": [
        "!chmod 755 -R /content/drive/MyDrive/tesseract/src/training/tesstrain.sh"
      ]
    },
    {
      "cell_type": "code",
      "execution_count": 17,
      "metadata": {
        "colab": {
          "base_uri": "https://localhost:8080/"
        },
        "id": "ackgGjeexk0o",
        "outputId": "3479abcc-2be6-46ad-8089-27a54556869a"
      },
      "outputs": [
        {
          "name": "stdout",
          "output_type": "stream",
          "text": [
            "Extracting tessdata components from /content/drive/MyDrive/tesseract/tessdata/eng.traineddata\n",
            "Wrote eng.lstm\n",
            "Version string:4.00.00alpha:eng:synth20170629:[1,36,0,1Ct3,3,16Mp3,3Lfys64Lfx96Lrx96Lfx512O1c1]\n",
            "17:lstm:size=11689099, offset=192\n",
            "18:lstm-punc-dawg:size=4322, offset=11689291\n",
            "19:lstm-word-dawg:size=3694794, offset=11693613\n",
            "20:lstm-number-dawg:size=4738, offset=15388407\n",
            "21:lstm-unicharset:size=6360, offset=15393145\n",
            "22:lstm-recoder:size=1012, offset=15399505\n",
            "23:version:size=80, offset=15400517\n"
          ]
        }
      ],
      "source": [
        "!combine_tessdata -e /content/drive/MyDrive/tesseract/tessdata/eng.traineddata eng.lstm"
      ]
    },
    {
      "cell_type": "code",
      "execution_count": 19,
      "metadata": {
        "colab": {
          "base_uri": "https://localhost:8080/"
        },
        "id": "xDTsQ3RkX616",
        "outputId": "76f94ffe-373e-41d2-fe64-3108025c9f98"
      },
      "outputs": [
        {
          "name": "stdout",
          "output_type": "stream",
          "text": [
            "\n",
            "=== Starting training for language 'eng'\n",
            "[Tue Mar 4 04:03:43 AM UTC 2025] /usr/bin/text2image --fonts_dir=fonts --ptsize 12 --font=TypoUpright BT --outputbase=/tmp/font_tmp.9bwK862EjO/sample_text.txt --text=/tmp/font_tmp.9bwK862EjO/sample_text.txt --fontconfig_tmpdir=/tmp/font_tmp.9bwK862EjO\n",
            "Rendered page 0 to file /tmp/font_tmp.9bwK862EjO/sample_text.txt.tif\n",
            "\n",
            "=== Phase I: Generating training images ===\n",
            "Rendering using TypoUpright BT\n",
            "[Tue Mar 4 04:03:44 AM UTC 2025] /usr/bin/text2image --fontconfig_tmpdir=/tmp/font_tmp.9bwK862EjO --fonts_dir=fonts --strip_unrenderable_words --leading=32 --xsize=3600 --char_spacing=0.0 --exposure=0 --outputbase=/tmp/eng-2025-03-04.RuE/eng.TypoUpright_BT.exp0 --max_pages=10 --font=TypoUpright BT --ptsize 12 --text=/content/drive/MyDrive/langdata_lstm/eng/eng.training_text\n",
            "Stripped 3 unrenderable words\n",
            "Rendered page 0 to file /tmp/eng-2025-03-04.RuE/eng.TypoUpright_BT.exp0.tif\n",
            "Stripped 8 unrenderable words\n",
            "Rendered page 1 to file /tmp/eng-2025-03-04.RuE/eng.TypoUpright_BT.exp0.tif\n",
            "Stripped 7 unrenderable words\n",
            "Rendered page 2 to file /tmp/eng-2025-03-04.RuE/eng.TypoUpright_BT.exp0.tif\n",
            "Stripped 9 unrenderable words\n",
            "Rendered page 3 to file /tmp/eng-2025-03-04.RuE/eng.TypoUpright_BT.exp0.tif\n",
            "Stripped 6 unrenderable words\n",
            "Rendered page 4 to file /tmp/eng-2025-03-04.RuE/eng.TypoUpright_BT.exp0.tif\n",
            "Stripped 10 unrenderable words\n",
            "Rendered page 5 to file /tmp/eng-2025-03-04.RuE/eng.TypoUpright_BT.exp0.tif\n",
            "Stripped 8 unrenderable words\n",
            "Rendered page 6 to file /tmp/eng-2025-03-04.RuE/eng.TypoUpright_BT.exp0.tif\n",
            "Stripped 3 unrenderable words\n",
            "Rendered page 7 to file /tmp/eng-2025-03-04.RuE/eng.TypoUpright_BT.exp0.tif\n",
            "Stripped 6 unrenderable words\n",
            "Rendered page 8 to file /tmp/eng-2025-03-04.RuE/eng.TypoUpright_BT.exp0.tif\n",
            "Stripped 5 unrenderable words\n",
            "Rendered page 9 to file /tmp/eng-2025-03-04.RuE/eng.TypoUpright_BT.exp0.tif\n",
            "\n",
            "=== Phase UP: Generating unicharset and unichar properties files ===\n",
            "[Tue Mar 4 04:03:53 AM UTC 2025] /usr/bin/unicharset_extractor --output_unicharset /tmp/eng-2025-03-04.RuE/eng.unicharset --norm_mode 1 /tmp/eng-2025-03-04.RuE/eng.TypoUpright_BT.exp0.box\n",
            "Extracting unicharset from box file /tmp/eng-2025-03-04.RuE/eng.TypoUpright_BT.exp0.box\n",
            "Other case É of é is not in unicharset\n",
            "Wrote unicharset file /tmp/eng-2025-03-04.RuE/eng.unicharset\n",
            "[Tue Mar 4 04:03:54 AM UTC 2025] /usr/bin/set_unicharset_properties -U /tmp/eng-2025-03-04.RuE/eng.unicharset -O /tmp/eng-2025-03-04.RuE/eng.unicharset -X /tmp/eng-2025-03-04.RuE/eng.xheights --script_dir=/content/drive/MyDrive/langdata_lstm\n",
            "Loaded unicharset of size 111 from file /tmp/eng-2025-03-04.RuE/eng.unicharset\n",
            "Setting unichar properties\n",
            "Other case É of é is not in unicharset\n",
            "Setting script properties\n",
            "Warning: properties incomplete for index 78 = ~\n",
            "Writing unicharset to file /tmp/eng-2025-03-04.RuE/eng.unicharset\n",
            "\n",
            "=== Phase E: Generating lstmf files ===\n",
            "Using TESSDATA_PREFIX=/content/drive/MyDrive/tesseract/tessdata\n",
            "[Tue Mar 4 04:03:54 AM UTC 2025] /usr/bin/tesseract /tmp/eng-2025-03-04.RuE/eng.TypoUpright_BT.exp0.tif /tmp/eng-2025-03-04.RuE/eng.TypoUpright_BT.exp0 --psm 6 lstm.train /content/drive/MyDrive/langdata_lstm/eng/eng.config\n",
            "read_params_file: Can't open /content/drive/MyDrive/langdata_lstm/eng/eng.config\n",
            "Tesseract Open Source OCR Engine v4.1.1 with Leptonica\n",
            "Page 1\n",
            "Page 2\n",
            "Loaded 50/50 lines (1-50) of document /tmp/eng-2025-03-04.RuE/eng.TypoUpright_BT.exp0.lstmf\n",
            "Page 3\n",
            "Loaded 101/101 lines (1-101) of document /tmp/eng-2025-03-04.RuE/eng.TypoUpright_BT.exp0.lstmf\n",
            "Page 4\n",
            "Loaded 152/152 lines (1-152) of document /tmp/eng-2025-03-04.RuE/eng.TypoUpright_BT.exp0.lstmf\n",
            "Page 5\n",
            "Loaded 203/203 lines (1-203) of document /tmp/eng-2025-03-04.RuE/eng.TypoUpright_BT.exp0.lstmf\n",
            "Page 6\n",
            "Loaded 254/254 lines (1-254) of document /tmp/eng-2025-03-04.RuE/eng.TypoUpright_BT.exp0.lstmf\n",
            "Page 7\n",
            "Loaded 305/305 lines (1-305) of document /tmp/eng-2025-03-04.RuE/eng.TypoUpright_BT.exp0.lstmf\n",
            "Page 8\n",
            "Loaded 356/356 lines (1-356) of document /tmp/eng-2025-03-04.RuE/eng.TypoUpright_BT.exp0.lstmf\n",
            "Page 9\n",
            "Loaded 406/406 lines (1-406) of document /tmp/eng-2025-03-04.RuE/eng.TypoUpright_BT.exp0.lstmf\n",
            "Page 10\n",
            "Loaded 456/456 lines (1-456) of document /tmp/eng-2025-03-04.RuE/eng.TypoUpright_BT.exp0.lstmf\n",
            "\n",
            "=== Constructing LSTM training data ===\n",
            "[Tue Mar 4 04:03:59 AM UTC 2025] /usr/bin/combine_lang_model --input_unicharset /tmp/eng-2025-03-04.RuE/eng.unicharset --script_dir /content/drive/MyDrive/langdata_lstm --words /content/drive/MyDrive/langdata_lstm/eng/eng.wordlist --numbers /content/drive/MyDrive/langdata_lstm/eng/eng.numbers --puncs /content/drive/MyDrive/langdata_lstm/eng/eng.punc --output_dir train --lang eng\n",
            "Loaded unicharset of size 111 from file /tmp/eng-2025-03-04.RuE/eng.unicharset\n",
            "Setting unichar properties\n",
            "Other case É of é is not in unicharset\n",
            "Setting script properties\n",
            "Warning: properties incomplete for index 78 = ~\n",
            "Config file is optional, continuing...\n",
            "Failed to read data from: /content/drive/MyDrive/langdata_lstm/eng/eng.config\n",
            "Null char=2\n",
            "Reducing Trie to SquishedDawg\n",
            "Reducing Trie to SquishedDawg\n",
            "Reducing Trie to SquishedDawg\n",
            "\n",
            "=== Saving box/tiff pairs for training data ===\n",
            "Moving /tmp/eng-2025-03-04.RuE/eng.TypoUpright_BT.exp0.box to train\n",
            "Moving /tmp/eng-2025-03-04.RuE/eng.TypoUpright_BT.exp0.tif to train\n",
            "\n",
            "=== Moving lstmf files for training data ===\n",
            "Moving /tmp/eng-2025-03-04.RuE/eng.TypoUpright_BT.exp0.lstmf to train\n",
            "\n",
            "Created starter traineddata for LSTM training of language 'eng'\n",
            "\n",
            "\n",
            "Run 'lstmtraining' command to continue LSTM training for language 'eng'\n",
            "\n"
          ]
        }
      ],
      "source": [
        "%%bash\n",
        "# Ensure necessary langdata files are present\n",
        "\n",
        "# Download eng.config if not present\n",
        "if [ ! -f /content/drive/MyDrive/langdata_lstm/eng/eng.config ]; then\n",
        "    echo \"Downloading eng.config...\"\n",
        "    wget -O /content/drive/MyDrive/langdata_lstm/eng/eng.config https://raw.githubusercontent.com/tesseract-ocr/langdata_lstm/main/eng/eng.config\n",
        "fi\n",
        "\n",
        "# Download radical-stroke.txt if not present\n",
        "if [ ! -f /content/drive/MyDrive/langdata_lstm/radical-stroke.txt ]; then\n",
        "    echo \"Downloading radical-stroke.txt...\"\n",
        "    wget -O /content/drive/MyDrive/langdata_lstm/radical-stroke.txt https://raw.githubusercontent.com/tesseract-ocr/langdata_lstm/main/radical-stroke.txt\n",
        "fi\n",
        "\n",
        "rm -rf train/*\n",
        "\n",
        "# Run the training script with your parameters\n",
        "/content/drive/MyDrive/tesseract/src/training/tesstrain.sh --fonts_dir fonts \\\n",
        "    --fontlist 'TypoUpright BT' \\\n",
        "    --lang eng \\\n",
        "    --linedata_only \\\n",
        "    --langdata_dir /content/drive/MyDrive/langdata_lstm \\\n",
        "    --tessdata_dir /content/drive/MyDrive/tesseract/tessdata \\\n",
        "    --save_box_tiff \\\n",
        "    --maxpages 10 \\\n",
        "    --output_dir train\n"
      ]
    },
    {
      "cell_type": "code",
      "execution_count": 22,
      "metadata": {
        "colab": {
          "base_uri": "https://localhost:8080/"
        },
        "id": "ZddishLny8Qt",
        "outputId": "cb141647-b1aa-4900-e09e-5c123b9da13f"
      },
      "outputs": [
        {
          "name": "stdout",
          "output_type": "stream",
          "text": [
            "Loaded file eng.lstm, unpacking...\n",
            "Warning: LSTMTrainer deserialized an LSTMRecognizer!\n",
            "Continuing from eng.lstm\n",
            "Loaded 506/506 lines (1-506) of document train/eng.TypoUpright_BT.exp0.lstmf\n",
            "2 Percent improvement time=97, best error was 100 @ 0\n",
            "At iteration 97/100/100, Mean rms=1.437%, delta=3.007%, char train=8.806%, word train=29.774%, skip ratio=0%,  New best char error = 8.806 Transitioned to stage 1 wrote best model:output/font_name8.806_97.checkpoint wrote checkpoint.\n",
            "\n",
            "2 Percent improvement time=187, best error was 100 @ 0\n",
            "At iteration 187/200/200, Mean rms=1.305%, delta=2.502%, char train=7.123%, word train=24.981%, skip ratio=0%,  New best char error = 7.123 wrote best model:output/font_name7.123_187.checkpoint wrote checkpoint.\n",
            "\n",
            "Finished! Error rate = 7.123\n"
          ]
        },
        {
          "data": {
            "text/plain": []
          },
          "execution_count": 22,
          "metadata": {},
          "output_type": "execute_result"
        }
      ],
      "source": [
        "%%shell\n",
        "\n",
        "rm -rf output/*\n",
        "OMP_THREAD_LIMIT=16 lstmtraining \\\n",
        "\t--continue_from eng.lstm \\\n",
        "\t--model_output output/font_name \\\n",
        "\t--traineddata /content/drive/MyDrive/tesseract/tessdata/eng.traineddata \\\n",
        "\t--train_listfile train/eng.training_files.txt \\\n",
        "\t--max_iterations 200"
      ]
    },
    {
      "cell_type": "code",
      "execution_count": 23,
      "metadata": {
        "colab": {
          "base_uri": "https://localhost:8080/"
        },
        "id": "1wPmBN9IM7Fx",
        "outputId": "1c2eb254-a014-4f0a-baf3-1d61e5d89ca2"
      },
      "outputs": [
        {
          "name": "stdout",
          "output_type": "stream",
          "text": [
            "Loaded file output/font_name_checkpoint, unpacking...\n"
          ]
        },
        {
          "data": {
            "text/plain": []
          },
          "execution_count": 23,
          "metadata": {},
          "output_type": "execute_result"
        }
      ],
      "source": [
        "%%shell\n",
        "\n",
        "lstmtraining --stop_training \\\n",
        "\t--continue_from output/font_name_checkpoint \\\n",
        "\t--traineddata /content/drive/MyDrive/tesseract/tessdata/eng.traineddata \\\n",
        "\t--model_output output/font_name.traineddata"
      ]
    },
    {
      "cell_type": "code",
      "execution_count": 25,
      "metadata": {
        "colab": {
          "base_uri": "https://localhost:8080/",
          "height": 17
        },
        "id": "T0Mj8LTFZoMx",
        "outputId": "12748bfe-cea8-4f2f-acf6-3e32be920708"
      },
      "outputs": [
        {
          "data": {
            "application/javascript": "\n    async function download(id, filename, size) {\n      if (!google.colab.kernel.accessAllowed) {\n        return;\n      }\n      const div = document.createElement('div');\n      const label = document.createElement('label');\n      label.textContent = `Downloading \"${filename}\": `;\n      div.appendChild(label);\n      const progress = document.createElement('progress');\n      progress.max = size;\n      div.appendChild(progress);\n      document.body.appendChild(div);\n\n      const buffers = [];\n      let downloaded = 0;\n\n      const channel = await google.colab.kernel.comms.open(id);\n      // Send a message to notify the kernel that we're ready.\n      channel.send({})\n\n      for await (const message of channel.messages) {\n        // Send a message to notify the kernel that we're ready.\n        channel.send({})\n        if (message.buffers) {\n          for (const buffer of message.buffers) {\n            buffers.push(buffer);\n            downloaded += buffer.byteLength;\n            progress.value = downloaded;\n          }\n        }\n      }\n      const blob = new Blob(buffers, {type: 'application/binary'});\n      const a = document.createElement('a');\n      a.href = window.URL.createObjectURL(blob);\n      a.download = filename;\n      div.appendChild(a);\n      a.click();\n      div.remove();\n    }\n  ",
            "text/plain": [
              "<IPython.core.display.Javascript object>"
            ]
          },
          "metadata": {},
          "output_type": "display_data"
        },
        {
          "data": {
            "application/javascript": "download(\"download_2d1e21e2-8464-4712-a118-22df3447f272\", \"font_name.traineddata\", 15400601)",
            "text/plain": [
              "<IPython.core.display.Javascript object>"
            ]
          },
          "metadata": {},
          "output_type": "display_data"
        }
      ],
      "source": [
        "from google.colab import files\n",
        "files.download(\"output/font_name.traineddata\")\n"
      ]
    },
    {
      "cell_type": "code",
      "execution_count": null,
      "metadata": {
        "id": "JLYGFTjBZpBj"
      },
      "outputs": [],
      "source": [
        "# run \n",
        "# \"C:\\Program Files\\Tesseract-OCR\\tesseract.exe\" 31.jpg output.txt -l eng\n"
      ]
    }
  ],
  "metadata": {
    "colab": {
      "provenance": []
    },
    "kernelspec": {
      "display_name": "Python 3 (ipykernel)",
      "language": "python",
      "name": "python3"
    },
    "language_info": {
      "codemirror_mode": {
        "name": "ipython",
        "version": 3
      },
      "file_extension": ".py",
      "mimetype": "text/x-python",
      "name": "python",
      "nbconvert_exporter": "python",
      "pygments_lexer": "ipython3",
      "version": "3.12.7"
    }
  },
  "nbformat": 4,
  "nbformat_minor": 0
}
